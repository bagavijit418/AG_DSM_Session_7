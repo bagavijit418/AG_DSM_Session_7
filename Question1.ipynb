{
 "cells": [
  {
   "cell_type": "markdown",
   "metadata": {},
   "source": [
    "Write a function to find moving average in an array over a window:\n",
    "Test it over [3, 5, 7, 2, 8, 10, 11, 65, 72, 81, 99, 100, 150] and window of 3."
   ]
  },
  {
   "cell_type": "code",
   "execution_count": 7,
   "metadata": {},
   "outputs": [],
   "source": [
    "import numpy as np"
   ]
  },
  {
   "cell_type": "code",
   "execution_count": 35,
   "metadata": {},
   "outputs": [],
   "source": [
    "def moving_avg(arr,window):\n",
    "    averages=[]\n",
    "    i=0\n",
    "    while (i<len(arr)-window+1):\n",
    "        window_elements=arr[i:i+window]\n",
    "        print(\"Y%d =(%s)/%d=%2f\"%(i+1,\"+\".join(window_elements.astype(\"str\")),window,np.average(window_elements)))\n",
    "        i=i+1\n",
    "        \n",
    "        #averages.append(\"Y%d = (%d+%d+%d)/%d\",i)"
   ]
  },
  {
   "cell_type": "code",
   "execution_count": 37,
   "metadata": {},
   "outputs": [
    {
     "name": "stdout",
     "output_type": "stream",
     "text": [
      "Input Array : [  3   5   7   2   8  10  11  65  72  81  99 100 150]\n",
      "Window: 3\n",
      "Moving averages are:\n",
      "==================================================\n",
      "Y1 =(3+5+7)/3=5.000000\n",
      "Y2 =(5+7+2)/3=4.666667\n",
      "Y3 =(7+2+8)/3=5.666667\n",
      "Y4 =(2+8+10)/3=6.666667\n",
      "Y5 =(8+10+11)/3=9.666667\n",
      "Y6 =(10+11+65)/3=28.666667\n",
      "Y7 =(11+65+72)/3=49.333333\n",
      "Y8 =(65+72+81)/3=72.666667\n",
      "Y9 =(72+81+99)/3=84.000000\n",
      "Y10 =(81+99+100)/3=93.333333\n",
      "Y11 =(99+100+150)/3=116.333333\n"
     ]
    }
   ],
   "source": [
    "input_arr=np.array([3, 5, 7, 2, 8, 10, 11, 65, 72, 81, 99, 100, 150])\n",
    "window=3\n",
    "print(\"Input Array :\",input_arr)\n",
    "print(\"Window:\",window)\n",
    "print(\"Moving averages are:\")\n",
    "print(\"=\"*50)\n",
    "moving_avg(input_arr,window)"
   ]
  },
  {
   "cell_type": "code",
   "execution_count": null,
   "metadata": {},
   "outputs": [],
   "source": []
  },
  {
   "cell_type": "code",
   "execution_count": null,
   "metadata": {},
   "outputs": [],
   "source": []
  }
 ],
 "metadata": {
  "kernelspec": {
   "display_name": "Python 3",
   "language": "python",
   "name": "python3"
  },
  "language_info": {
   "codemirror_mode": {
    "name": "ipython",
    "version": 3
   },
   "file_extension": ".py",
   "mimetype": "text/x-python",
   "name": "python",
   "nbconvert_exporter": "python",
   "pygments_lexer": "ipython3",
   "version": "3.6.4"
  }
 },
 "nbformat": 4,
 "nbformat_minor": 2
}
